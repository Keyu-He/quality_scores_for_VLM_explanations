{
 "cells": [
  {
   "cell_type": "markdown",
   "metadata": {
    "vscode": {
     "languageId": "plaintext"
    }
   },
   "source": [
    "## Load the dataset"
   ]
  },
  {
   "cell_type": "code",
   "execution_count": null,
   "metadata": {},
   "outputs": [],
   "source": [
    "import pandas as pd\n",
    "import numpy as np\n",
    "\n",
    "# Read data\n",
    "file_path = '../results/Human Annotation of LLaVA+ Rationales.xlsx'\n",
    "\n",
    "anno_data = pd.read_excel(file_path, sheet_name=\"Sentence_VF anno\", header=1)\n",
    "autoeval_data = pd.read_excel(file_path, sheet_name=\"LLAVA-1.5 Rationales-50 set-Two\", header=1)\n",
    "\n",
    "# Select columns M, S, and V by their column names\n",
    "anno_data = anno_data[['Sentence-wise Visual Fidelity', 'Sentence-wise Visual Fidelity.2', 'Sentence-wise Visual Fidelity.3']].dropna()\n",
    "autoeval_data = autoeval_data[['autoeval s_VF(v3)']].dropna()[:len(anno_data)]\n",
    "\n",
    "data = pd.concat([anno_data, autoeval_data], axis=1).rename(columns={\n",
    "    'Sentence-wise Visual Fidelity': 'Rater1',\n",
    "    'Sentence-wise Visual Fidelity.2': 'Rater2',\n",
    "    'Sentence-wise Visual Fidelity.3': 'Rater3',\n",
    "    'autoeval s_VF(v3)': 'GPT4o'\n",
    "})\n",
    "\n",
    "data"
   ]
  },
  {
   "cell_type": "code",
   "execution_count": null,
   "metadata": {},
   "outputs": [],
   "source": [
    "import ast\n",
    "import pandas as pd\n",
    "\n",
    "# Function to flatten a column into a one-dimensional format\n",
    "def flatten_column(column):\n",
    "    return column.explode().reset_index(drop=True)\n",
    "\n",
    "# Function to convert string representations of lists to actual Python lists\n",
    "def convert_to_list(cell):\n",
    "    if pd.isna(cell):\n",
    "        return []  # Handle NaN or empty cells\n",
    "    return ast.literal_eval(cell)\n",
    "\n",
    "# Apply the conversion function to all columns\n",
    "df = data.map(convert_to_list)\n",
    "\n",
    "# Flatten each specified column\n",
    "flattened_df = pd.concat([flatten_column(df[col]) for col in df.columns], axis=1).dropna()\n",
    "\n",
    "flattened_df.reset_index(drop=True, inplace=True)\n",
    "\n",
    "# flattened_df\n",
    "with pd.option_context('display.max_rows', None, 'display.max_columns', None):\n",
    "    print(flattened_df)"
   ]
  },
  {
   "cell_type": "markdown",
   "metadata": {},
   "source": [
    "# 1. Interannotator agreement: Fleiss' Kappa"
   ]
  },
  {
   "cell_type": "code",
   "execution_count": null,
   "metadata": {},
   "outputs": [],
   "source": [
    "# %pip install statsmodels"
   ]
  },
  {
   "cell_type": "code",
   "execution_count": null,
   "metadata": {},
   "outputs": [],
   "source": [
    "import pandas as pd\n",
    "from statsmodels.stats.inter_rater import fleiss_kappa\n",
    "\n",
    "human_anno_df = flattened_df[['Rater1', 'Rater2', 'Rater3']]\n",
    "\n",
    "# Convert ratings into a count matrix suitable for Fleiss' kappa calculation\n",
    "def create_count_matrix(df):\n",
    "    categories = sorted(df.stack().unique())  # All unique categories\n",
    "    count_matrix = []\n",
    "\n",
    "    for _, row in df.iterrows():\n",
    "        counts = [sum(row == category) for category in categories]\n",
    "        count_matrix.append(counts)\n",
    "\n",
    "    return pd.DataFrame(count_matrix, columns=categories)\n",
    "\n",
    "# Create the count matrix for Fleiss' kappa calculation\n",
    "count_matrix = create_count_matrix(human_anno_df)\n",
    "\n",
    "# Calculate Fleiss' kappa\n",
    "kappa = fleiss_kappa(count_matrix.to_numpy(), method='fleiss')\n",
    "print(f\"Fleiss' kappa: {kappa}\")"
   ]
  },
  {
   "cell_type": "markdown",
   "metadata": {},
   "source": [
    "# 2. Majority Vote, and how it compares to GPT annotations"
   ]
  },
  {
   "cell_type": "code",
   "execution_count": null,
   "metadata": {},
   "outputs": [],
   "source": [
    "flattened_df['Majority Vote'] = flattened_df[['Rater1', 'Rater2', 'Rater3']].mode(axis=1)[0]\n",
    "flattened_df['Matches GPT4o'] = flattened_df['Majority Vote'] == flattened_df['GPT4o']\n",
    "\n",
    "# Display the updated DataFrame\n",
    "print(flattened_df)\n",
    "\n",
    "# Calculate the number of matches and mismatches\n",
    "matches = flattened_df['Matches GPT4o'].sum()\n",
    "total = flattened_df.shape[0]\n",
    "mismatches = total - matches\n",
    "\n",
    "print(f\"Number of matches: {matches}\")\n",
    "print(f\"Number of mismatches: {mismatches}\")\n",
    "print(f\"Match percentage: {matches / total * 100:.2f}%\")"
   ]
  },
  {
   "cell_type": "code",
   "execution_count": null,
   "metadata": {},
   "outputs": [],
   "source": [
    "# Calculate correlation\n",
    "from scipy.stats import spearmanr\n",
    "from sklearn.metrics import cohen_kappa_score\n",
    "\n",
    "# Ensure 'Majority Vote' and 'GPT4o' are numeric\n",
    "flattened_df['Majority Vote'] = pd.to_numeric(flattened_df['Majority Vote'], errors='coerce')\n",
    "flattened_df['GPT4o'] = pd.to_numeric(flattened_df['GPT4o'], errors='coerce')\n",
    "# Calculate Spearman correlation between the majority vote and GPT4o\n",
    "spearman_corr, spearman_pval = spearmanr(flattened_df['Majority Vote'], flattened_df['GPT4o'])\n",
    "\n",
    "print(f\"Spearman correlation with GPT4o: {spearman_corr:.4f} (p-value: {spearman_pval})\")\n",
    "\n",
    "# Calculate Cohen's kappa between Majority Vote and GPT4o's label\n",
    "cohen_kappa = cohen_kappa_score(flattened_df['Majority Vote'], flattened_df['GPT4o'])\n",
    "print(f\"Cohen's kappa: {cohen_kappa}\")"
   ]
  },
  {
   "cell_type": "code",
   "execution_count": null,
   "metadata": {},
   "outputs": [],
   "source": []
  }
 ],
 "metadata": {
  "kernelspec": {
   "display_name": "myenv",
   "language": "python",
   "name": "myenv"
  },
  "language_info": {
   "codemirror_mode": {
    "name": "ipython",
    "version": 3
   },
   "file_extension": ".py",
   "mimetype": "text/x-python",
   "name": "python",
   "nbconvert_exporter": "python",
   "pygments_lexer": "ipython3",
   "version": "3.10.14"
  }
 },
 "nbformat": 4,
 "nbformat_minor": 2
}

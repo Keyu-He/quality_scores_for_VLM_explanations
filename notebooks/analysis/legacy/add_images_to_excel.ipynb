{
 "cells": [
  {
   "cell_type": "code",
   "execution_count": null,
   "metadata": {},
   "outputs": [],
   "source": [
    "!pip install openpyxl pillow"
   ]
  },
  {
   "cell_type": "code",
   "execution_count": null,
   "metadata": {},
   "outputs": [],
   "source": [
    "from openpyxl import load_workbook\n",
    "from openpyxl.drawing.image import Image\n",
    "\n",
    "def insert_images_into_excel(file_path):\n",
    "    # Load the workbook\n",
    "    wb = load_workbook(file_path)\n",
    "\n",
    "    # Iterate through sheets\n",
    "    for sheet_name in wb.sheetnames:\n",
    "        # Check if sheet name matches \"{Name} -- Set_{number}\" or \"Set_{number}\"\n",
    "        if \"-- Set_\" in sheet_name or sheet_name.startswith(\"Set_\"):\n",
    "            ws = wb[sheet_name]\n",
    "            \n",
    "            # Iterate through rows in column F (image paths)\n",
    "            for row in range(2, ws.max_row + 1):  # Assuming row 1 is the header\n",
    "                image_path = ws.cell(row=row, column=6).value  # Column F is the 6th column\n",
    "\n",
    "                if image_path:  # Check if there's a valid image path\n",
    "                    try:\n",
    "                        img = Image(image_path)\n",
    "                        # Insert image into column T (20th column)\n",
    "                        ws.add_image(img, f'T{row}')\n",
    "                    except Exception as e:\n",
    "                        print(f\"Failed to insert image for row {row} in sheet '{sheet_name}': {e}\")\n",
    "\n",
    "    # Save the modified workbook\n",
    "    new_file_path = file_path.replace(\".xlsx\", \"_with_images.xlsx\")\n",
    "    wb.save(new_file_path)\n",
    "    print(f\"Images inserted and saved to {new_file_path}\")\n",
    "\n",
    "# Example usage\n",
    "file_path = \"../results/Visual Fidelity quality annotation.xlsx\"  # Replace with your file path\n",
    "insert_images_into_excel(file_path)\n"
   ]
  },
  {
   "cell_type": "code",
   "execution_count": null,
   "metadata": {},
   "outputs": [],
   "source": []
  }
 ],
 "metadata": {
  "kernelspec": {
   "display_name": "Python 3",
   "language": "python",
   "name": "python3"
  },
  "language_info": {
   "codemirror_mode": {
    "name": "ipython",
    "version": 3
   },
   "file_extension": ".py",
   "mimetype": "text/x-python",
   "name": "python",
   "nbconvert_exporter": "python",
   "pygments_lexer": "ipython3",
   "version": "3.11.0"
  }
 },
 "nbformat": 4,
 "nbformat_minor": 2
}
